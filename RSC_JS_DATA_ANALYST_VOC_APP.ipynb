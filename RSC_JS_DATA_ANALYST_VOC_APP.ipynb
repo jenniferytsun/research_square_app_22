{
 "cells": [
  {
   "cell_type": "markdown",
   "metadata": {},
   "source": [
    "Research Square Company //\n",
    "Data Analyst, VOC //\n",
    "Jennifer Sun //\n",
    "January 17 2022"
   ]
  },
  {
   "cell_type": "code",
   "execution_count": 22,
   "metadata": {},
   "outputs": [],
   "source": [
    "from random import randint\n",
    "import statistics"
   ]
  },
  {
   "cell_type": "markdown",
   "metadata": {},
   "source": [
    "### Please write a program that simulates and outputs the result of 100 rolls of a fair 20-sided die. \n"
   ]
  },
  {
   "cell_type": "code",
   "execution_count": 28,
   "metadata": {},
   "outputs": [
    {
     "name": "stdout",
     "output_type": "stream",
     "text": [
      "[4, 8, 11, 11, 10, 20, 10, 10, 20, 13, 9, 18, 11, 17, 5, 8, 15, 3, 1, 18, 2, 6, 2, 7, 6, 4, 12, 1, 12, 20, 6, 19, 7, 19, 17, 1, 6, 2, 10, 17, 17, 6, 13, 2, 12, 14, 10, 18, 17, 15, 8, 7, 7, 11, 2, 1, 6, 7, 13, 14, 7, 12, 7, 17, 16, 9, 1, 1, 6, 17, 16, 17, 8, 4, 2, 15, 15, 18, 17, 3, 14, 8, 15, 6, 1, 8, 8, 13, 9, 1, 4, 3, 16, 16, 18, 8, 13, 17, 20, 15]\n"
     ]
    }
   ],
   "source": [
    "rolls = []\n",
    "for i in range(100):\n",
    "    rolls.append(randint(1,20))\n",
    "    \n",
    "print (rolls)"
   ]
  },
  {
   "cell_type": "markdown",
   "metadata": {},
   "source": [
    "### What is your estimate for the average of those rolls (including the standard deviation of that estimated average)? "
   ]
  },
  {
   "cell_type": "code",
   "execution_count": 77,
   "metadata": {},
   "outputs": [
    {
     "name": "stdout",
     "output_type": "stream",
     "text": [
      "Average: 10.19\n",
      "Standard deviation: 5.787391467664858\n"
     ]
    }
   ],
   "source": [
    "print(\"Average:\", statistics.mean(rolls))\n",
    "print(\"Standard deviation:\", statistics.pstdev(rolls))"
   ]
  },
  {
   "cell_type": "markdown",
   "metadata": {},
   "source": [
    "### What is your estimate for the expected value of a single roll of a 20-sided die (including the standard deviation of that expected value)? "
   ]
  },
  {
   "cell_type": "code",
   "execution_count": 116,
   "metadata": {},
   "outputs": [
    {
     "name": "stdout",
     "output_type": "stream",
     "text": [
      "Expected Value: 10.5\n"
     ]
    }
   ],
   "source": [
    "print(\"Expected Value:\", sum(range(1,21))/(20))"
   ]
  },
  {
   "cell_type": "code",
   "execution_count": 119,
   "metadata": {},
   "outputs": [],
   "source": [
    "ev = range(1,21)"
   ]
  },
  {
   "cell_type": "code",
   "execution_count": 120,
   "metadata": {},
   "outputs": [
    {
     "name": "stdout",
     "output_type": "stream",
     "text": [
      "Standard deviation: 5.766281297335398\n"
     ]
    }
   ],
   "source": [
    "print(\"Standard deviation:\", statistics.pstdev(ev))"
   ]
  },
  {
   "cell_type": "markdown",
   "metadata": {},
   "source": [
    "### Briefly explain why the two estimates are or are not the same."
   ]
  },
  {
   "cell_type": "markdown",
   "metadata": {},
   "source": [
    "They are not the same as the average is the mean of the data collected while the expected value is theoretical mean and is calculated by weighted average of the all the possible outcomes."
   ]
  },
  {
   "cell_type": "code",
   "execution_count": null,
   "metadata": {},
   "outputs": [],
   "source": []
  }
 ],
 "metadata": {
  "kernelspec": {
   "display_name": "Python 3",
   "language": "python",
   "name": "python3"
  },
  "language_info": {
   "codemirror_mode": {
    "name": "ipython",
    "version": 3
   },
   "file_extension": ".py",
   "mimetype": "text/x-python",
   "name": "python",
   "nbconvert_exporter": "python",
   "pygments_lexer": "ipython3",
   "version": "3.7.6"
  },
  "toc": {
   "base_numbering": 1,
   "nav_menu": {},
   "number_sections": true,
   "sideBar": true,
   "skip_h1_title": false,
   "title_cell": "Table of Contents",
   "title_sidebar": "Contents",
   "toc_cell": false,
   "toc_position": {},
   "toc_section_display": true,
   "toc_window_display": false
  },
  "varInspector": {
   "cols": {
    "lenName": 16,
    "lenType": 16,
    "lenVar": 40
   },
   "kernels_config": {
    "python": {
     "delete_cmd_postfix": "",
     "delete_cmd_prefix": "del ",
     "library": "var_list.py",
     "varRefreshCmd": "print(var_dic_list())"
    },
    "r": {
     "delete_cmd_postfix": ") ",
     "delete_cmd_prefix": "rm(",
     "library": "var_list.r",
     "varRefreshCmd": "cat(var_dic_list()) "
    }
   },
   "types_to_exclude": [
    "module",
    "function",
    "builtin_function_or_method",
    "instance",
    "_Feature"
   ],
   "window_display": false
  }
 },
 "nbformat": 4,
 "nbformat_minor": 4
}
